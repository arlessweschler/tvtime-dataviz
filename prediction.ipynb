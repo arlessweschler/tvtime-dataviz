{
  "nbformat": 4,
  "nbformat_minor": 0,
  "metadata": {
    "colab": {
      "name": "prediction.ipynb",
      "provenance": []
    },
    "kernelspec": {
      "display_name": "tvtime-dataviz",
      "language": "python",
      "name": "tvtime-dataviz"
    },
    "language_info": {
      "codemirror_mode": {
        "name": "ipython",
        "version": 3
      },
      "file_extension": ".py",
      "mimetype": "text/x-python",
      "name": "python",
      "nbconvert_exporter": "python",
      "pygments_lexer": "ipython3",
      "version": "3.8.2"
    }
  },
  "cells": [
    {
      "cell_type": "code",
      "metadata": {
        "colab_type": "code",
        "id": "-hdFQVo37Wzs",
        "colab": {}
      },
      "source": [
        "import pandas as pd\n",
        "import numpy as np"
      ],
      "execution_count": 1,
      "outputs": []
    },
    {
      "cell_type": "code",
      "metadata": {
        "colab_type": "code",
        "id": "01786wmC7Wzx",
        "colab": {
          "base_uri": "https://localhost:8080/",
          "height": 1000
        },
        "outputId": "dfb5adc3-fe7a-45ca-9283-b55d99a69e6a"
      },
      "source": [
        "# Import datasets.\n",
        "tvdb_series_df = pd.read_csv(\"tvdb.csv\", index_col=\"imdb_id\")\n",
        "my_ratings_df = pd.read_csv(\"my_ratings.csv\", index_col=\"imdb_id\")\n",
        "imdb_series_df = pd.read_csv(\"imdb.csv\", index_col=\"id\")\n",
        "\n",
        "# Merge datasets together.\n",
        "cols_to_use = tvdb_series_df.columns.difference(imdb_series_df.columns)\n",
        "df1 = pd.merge(imdb_series_df, tvdb_series_df[cols_to_use], how=\"outer\", left_index=True, right_index=True)\n",
        "\n",
        "cols_to_use = my_ratings_df.columns.difference(df1.columns)\n",
        "tv_df = pd.merge(df1, my_ratings_df[cols_to_use], how=\"outer\", left_index=True, right_index=True)\n",
        "\n",
        "# Display final dataset obtained.\n",
        "main_df = tv_df.copy()\n",
        "tv_df.info()"
      ],
      "execution_count": 2,
      "outputs": [
        {
          "output_type": "stream",
          "text": [
            "<class 'pandas.core.frame.DataFrame'>\n",
            "Index: 3157 entries, tt0092337 to nan\n",
            "Data columns (total 68 columns):\n",
            " #   Column             Non-Null Count  Dtype  \n",
            "---  ------             --------------  -----  \n",
            " 0   name               3155 non-null   object \n",
            " 1   type               3155 non-null   object \n",
            " 2   start_year         3155 non-null   float64\n",
            " 3   end_year           1597 non-null   float64\n",
            " 4   ep_length          3044 non-null   float64\n",
            " 5   n_seasons          3150 non-null   float64\n",
            " 6   n_episodes         3155 non-null   float64\n",
            " 7   popularity_rank    2451 non-null   float64\n",
            " 8   n_ratings          3155 non-null   float64\n",
            " 9   rating_avg         3155 non-null   float64\n",
            " 10  rating_top1000     3155 non-null   float64\n",
            " 11  rating_us          3155 non-null   float64\n",
            " 12  rating_row         3155 non-null   float64\n",
            " 13  rating_M           3155 non-null   float64\n",
            " 14  rating_F           3155 non-null   float64\n",
            " 15  rating_0to18       2649 non-null   float64\n",
            " 16  rating_M_0to18     2308 non-null   float64\n",
            " 17  rating_F_0to18     2035 non-null   float64\n",
            " 18  rating_18to29      3155 non-null   float64\n",
            " 19  rating_M_18to29    3155 non-null   float64\n",
            " 20  rating_F_18to29    3155 non-null   float64\n",
            " 21  rating_29to45      3155 non-null   float64\n",
            " 22  rating_M_29to45    3155 non-null   float64\n",
            " 23  rating_F_29to45    3155 non-null   float64\n",
            " 24  rating_45to100     3155 non-null   float64\n",
            " 25  rating_M_45to100   3155 non-null   float64\n",
            " 26  rating_F_45to100   3153 non-null   float64\n",
            " 27  genre_thriller     3108 non-null   float64\n",
            " 28  genre_romance      3108 non-null   float64\n",
            " 29  genre_mystery      3108 non-null   float64\n",
            " 30  genre_musical      3108 non-null   float64\n",
            " 31  genre_biography    3108 non-null   float64\n",
            " 32  genre_western      3108 non-null   float64\n",
            " 33  genre_talk-show    3108 non-null   float64\n",
            " 34  genre_family       3108 non-null   float64\n",
            " 35  genre_game-show    3108 non-null   float64\n",
            " 36  genre_comedy       3108 non-null   float64\n",
            " 37  genre_documentary  3108 non-null   float64\n",
            " 38  genre_news         3108 non-null   float64\n",
            " 39  genre_adventure    3108 non-null   float64\n",
            " 40  genre_war          3108 non-null   float64\n",
            " 41  genre_crime        3108 non-null   float64\n",
            " 42  genre_animation    3108 non-null   float64\n",
            " 43  genre_sport        3108 non-null   float64\n",
            " 44  genre_fantasy      3108 non-null   float64\n",
            " 45  genre_horror       3108 non-null   float64\n",
            " 46  genre_reality-tv   3108 non-null   float64\n",
            " 47  genre_drama        3108 non-null   float64\n",
            " 48  genre_sci-fi       3108 non-null   float64\n",
            " 49  genre_action       3108 non-null   float64\n",
            " 50  genre_history      3108 non-null   float64\n",
            " 51  genre_short        3108 non-null   float64\n",
            " 52  genre_music        3108 non-null   float64\n",
            " 53  banner             3077 non-null   object \n",
            " 54  fanart             3077 non-null   object \n",
            " 55  first_aired        3069 non-null   object \n",
            " 56  network            3050 non-null   object \n",
            " 57  num_seasons        3077 non-null   float64\n",
            " 58  poster             3077 non-null   object \n",
            " 59  prediction         2755 non-null   float64\n",
            " 60  rating             2572 non-null   object \n",
            " 61  runtime            3072 non-null   float64\n",
            " 62  series_name        3068 non-null   object \n",
            " 63  status             3077 non-null   object \n",
            " 64  tvdb_avg_rating    3077 non-null   float64\n",
            " 65  tvdb_id            3077 non-null   float64\n",
            " 66  tvdb_ratings       3077 non-null   float64\n",
            " 67  my_rating          140 non-null    float64\n",
            "dtypes: float64(58), object(10)\n",
            "memory usage: 1.7+ MB\n"
          ],
          "name": "stdout"
        }
      ]
    },
    {
      "cell_type": "code",
      "metadata": {
        "colab_type": "code",
        "id": "RS8Q9alN7Wz3",
        "colab": {}
      },
      "source": [
        "# Remove useless columns.\n",
        "cols_to_remove = [\"name\", \"series_name\", \"banner\", \"fanart\", \"poster\", \"first_aired\", \"tvdb_id\", 'prediction']\n",
        "tv_df.drop(cols_to_remove, axis=1, inplace=True)"
      ],
      "execution_count": 3,
      "outputs": []
    },
    {
      "cell_type": "code",
      "metadata": {
        "colab_type": "code",
        "id": "pp8wVwpP7Wz6",
        "colab": {}
      },
      "source": [
        "# Identify popular networks.\n",
        "popular_networks = tv_df.groupby(by=\"network\").count().sort_values(by=\"my_rating\", ascending=False)[:20].index.to_list()\n",
        "# Change network value of unpopular networks as \"unpopular\".\n",
        "tv_df[\"network\"] = tv_df[\"network\"].map(lambda x: x if x in popular_networks else \"unpopular\")"
      ],
      "execution_count": 4,
      "outputs": []
    },
    {
      "cell_type": "code",
      "metadata": {
        "colab_type": "code",
        "id": "PeaaPqYJ7Wz9",
        "colab": {
          "base_uri": "https://localhost:8080/",
          "height": 173
        },
        "outputId": "1e5bf302-aa22-464e-fac1-c295ec8ed5ca"
      },
      "source": [
        "# Let's have a look at the remaining categorical features.\n",
        "tv_df.describe(include=\"object\")"
      ],
      "execution_count": 5,
      "outputs": [
        {
          "output_type": "execute_result",
          "data": {
            "text/html": [
              "<div>\n",
              "<style scoped>\n",
              "    .dataframe tbody tr th:only-of-type {\n",
              "        vertical-align: middle;\n",
              "    }\n",
              "\n",
              "    .dataframe tbody tr th {\n",
              "        vertical-align: top;\n",
              "    }\n",
              "\n",
              "    .dataframe thead th {\n",
              "        text-align: right;\n",
              "    }\n",
              "</style>\n",
              "<table border=\"1\" class=\"dataframe\">\n",
              "  <thead>\n",
              "    <tr style=\"text-align: right;\">\n",
              "      <th></th>\n",
              "      <th>type</th>\n",
              "      <th>network</th>\n",
              "      <th>rating</th>\n",
              "      <th>status</th>\n",
              "    </tr>\n",
              "  </thead>\n",
              "  <tbody>\n",
              "    <tr>\n",
              "      <th>count</th>\n",
              "      <td>3155</td>\n",
              "      <td>3157</td>\n",
              "      <td>2572</td>\n",
              "      <td>3077</td>\n",
              "    </tr>\n",
              "    <tr>\n",
              "      <th>unique</th>\n",
              "      <td>2</td>\n",
              "      <td>21</td>\n",
              "      <td>6</td>\n",
              "      <td>2</td>\n",
              "    </tr>\n",
              "    <tr>\n",
              "      <th>top</th>\n",
              "      <td>TV Series</td>\n",
              "      <td>unpopular</td>\n",
              "      <td>TV-14</td>\n",
              "      <td>Ended</td>\n",
              "    </tr>\n",
              "    <tr>\n",
              "      <th>freq</th>\n",
              "      <td>2728</td>\n",
              "      <td>1633</td>\n",
              "      <td>1027</td>\n",
              "      <td>2433</td>\n",
              "    </tr>\n",
              "  </tbody>\n",
              "</table>\n",
              "</div>"
            ],
            "text/plain": [
              "             type    network rating status\n",
              "count        3155       3157   2572   3077\n",
              "unique          2         21      6      2\n",
              "top     TV Series  unpopular  TV-14  Ended\n",
              "freq         2728       1633   1027   2433"
            ]
          },
          "metadata": {
            "tags": []
          },
          "execution_count": 5
        }
      ]
    },
    {
      "cell_type": "code",
      "metadata": {
        "colab_type": "code",
        "id": "hgVHlbef7W0A",
        "colab": {}
      },
      "source": [
        "# Split training set and test set.\n",
        "train_df = tv_df.dropna(axis=0, subset=[\"my_rating\"])\n",
        "\n",
        "test_df = tv_df[tv_df[\"my_rating\"].isna()].drop(\"my_rating\", axis=1)\n",
        "test_df = test_df[test_df[\"type\"].notna()]"
      ],
      "execution_count": 6,
      "outputs": []
    },
    {
      "cell_type": "code",
      "metadata": {
        "colab_type": "code",
        "id": "DtgXdK4S7W0D",
        "colab": {}
      },
      "source": [
        "from sklearn.model_selection import train_test_split\n",
        "\n",
        "X = train_df.drop([\"my_rating\"], axis=1)\n",
        "y = train_df[\"my_rating\"]\n",
        "\n",
        "# Break off validation set from training data.\n",
        "X_train, X_valid, y_train, y_valid = train_test_split(X, y, train_size=0.8, test_size=0.2, random_state=0)"
      ],
      "execution_count": 7,
      "outputs": []
    },
    {
      "cell_type": "code",
      "metadata": {
        "colab_type": "code",
        "id": "td6B9Jd17W0F",
        "colab": {}
      },
      "source": [
        "from sklearn.compose import ColumnTransformer\n",
        "from sklearn.pipeline import make_pipeline\n",
        "from sklearn.impute import SimpleImputer\n",
        "from sklearn.preprocessing import OneHotEncoder, OrdinalEncoder, StandardScaler\n",
        "import multiprocessing\n",
        "\n",
        "year_pipe = make_pipeline(\n",
        "    SimpleImputer(strategy=\"constant\", fill_value=tv_df[\"start_year\"].max()), \n",
        "    StandardScaler())\n",
        "\n",
        "genre_pipe = make_pipeline(\n",
        "    SimpleImputer(strategy=\"constant\", fill_value=0))\n",
        "\n",
        "string_pipe = make_pipeline(\n",
        "    SimpleImputer(strategy=\"most_frequent\"), \n",
        "    OrdinalEncoder())\n",
        "\n",
        "cat_pipe = make_pipeline(\n",
        "    SimpleImputer(strategy=\"constant\", fill_value=\"unknown\"),\n",
        "    OneHotEncoder(categories=[np.append(tv_df[\"rating\"].unique(), \"unknown\")]))\n",
        "\n",
        "rating_pipe = make_pipeline(\n",
        "    SimpleImputer(strategy=\"median\", add_indicator=True), \n",
        "    StandardScaler())\n",
        "\n",
        "popularity_pipe = make_pipeline(\n",
        "    SimpleImputer(strategy=\"constant\", fill_value=tv_df[\"popularity_rank\"].max(), add_indicator=True),\n",
        "    StandardScaler())\n",
        "\n",
        "network_pipe = make_pipeline(\n",
        "    OneHotEncoder(categories=[tv_df[\"network\"].unique()]))\n",
        "\n",
        "year_cat = [\"start_year\", \"end_year\"]\n",
        "genre_cat = [name for name in tv_df.columns if name.startswith(\"genre\")]\n",
        "rating_cat = [name for name in tv_df.columns if name.startswith(\"rating_\")]\n",
        "popularity_cat = [\"popularity_rank\"]\n",
        "ordinal_cat = [\"type\", \"status\"]\n",
        "\n",
        "transformers = [\n",
        "    (\"year\", year_pipe, year_cat),\n",
        "    (\"genre\", genre_pipe, genre_cat),\n",
        "    (\"ratings\", rating_pipe, rating_cat),\n",
        "    (\"popularity\", popularity_pipe, popularity_cat),\n",
        "    (\"ordinal\", string_pipe, ordinal_cat),\n",
        "    (\"cat\", cat_pipe, [\"rating\"]),\n",
        "    (\"network\", network_pipe, [\"network\"])\n",
        "]\n",
        "\n",
        "combined_pipe = ColumnTransformer(transformers, n_jobs=multiprocessing.cpu_count(), remainder=SimpleImputer(add_indicator=True))"
      ],
      "execution_count": 8,
      "outputs": []
    },
    {
      "cell_type": "code",
      "metadata": {
        "colab_type": "code",
        "id": "i-_nRf8_7W0I",
        "colab": {}
      },
      "source": [
        "tr_X_train = combined_pipe.fit_transform(X_train)\n",
        "tr_X_valid = combined_pipe.transform(X_valid)"
      ],
      "execution_count": 9,
      "outputs": []
    },
    {
      "cell_type": "code",
      "metadata": {
        "colab_type": "code",
        "id": "keffBYNu7W0K",
        "colab": {
          "base_uri": "https://localhost:8080/",
          "height": 544
        },
        "outputId": "05c0d0e5-ea63-48c2-ec6f-5202da8d4bb8"
      },
      "source": [
        "from sklearn.ensemble import RandomForestRegressor\n",
        "from xgboost import XGBRegressor\n",
        "\n",
        "# Fit model.\n",
        "model = XGBRegressor(n_estimators=500, random_state=17)\n",
        "model.fit(tr_X_train, y_train, early_stopping_rounds=5, eval_set=[(tr_X_valid, y_valid)], verbose=False)\n",
        "n_estimators = model.get_booster().best_iteration\n",
        "\n",
        "# Predict results for validation set.\n",
        "valid_predictions = model.predict(tr_X_valid)\n",
        "\n",
        "# Display results comparing them to real personal ratings.\n",
        "valid_results = pd.DataFrame(data=dict(prediction=valid_predictions, real=y_valid.to_list(), difference=valid_predictions - y_valid.to_list()), index=imdb_series_df.loc[y_valid.index, \"name\"])\n",
        "print(valid_results.sort_values(by=\"difference\", ascending=False).round(2))"
      ],
      "execution_count": 10,
      "outputs": [
        {
          "output_type": "stream",
          "text": [
            "[19:15:05] WARNING: /workspace/src/objective/regression_obj.cu:152: reg:linear is now deprecated in favor of reg:squarederror.\n",
            "                                         prediction  real  difference\n",
            "name                                                                 \n",
            "Tom Clancy's Jack Ryan                         5.49   2.0        3.49\n",
            "The Big Bang Theory                            5.16   2.0        3.16\n",
            "Atlanta                                        7.90   7.0        0.90\n",
            "Orphan Black                                   5.90   5.0        0.90\n",
            "Counterpart                                    5.48   5.0        0.48\n",
            "It's Always Sunny in Philadelphia              8.45   8.0        0.45\n",
            "The Office                                     7.35   7.0        0.35\n",
            "How I Met Your Mother                          7.11   7.0        0.11\n",
            "Band of Brothers                               8.06   8.0        0.06\n",
            "The Marvelous Mrs. Maisel                      7.80   8.0       -0.20\n",
            "Veep                                           7.74   8.0       -0.26\n",
            "Penny Dreadful                                 6.71   7.0       -0.29\n",
            "Friends                                        7.68   8.0       -0.32\n",
            "The Man in the High Castle                     5.67   6.0       -0.33\n",
            "The Office                                     8.66   9.0       -0.34\n",
            "Freaks and Geeks                               7.57   8.0       -0.43\n",
            "Black Mirror                                   7.47   8.0       -0.53\n",
            "Lost                                           6.41   7.0       -0.59\n",
            "The Crown                                      7.39   8.0       -0.61\n",
            "Big Little Lies                                7.37   8.0       -0.63\n",
            "Louie                                          6.05   7.0       -0.95\n",
            "The Outsider                                   5.96   7.0       -1.04\n",
            "Ozark                                          6.87   8.0       -1.13\n",
            "Dirk Gently's Holistic Detective Agency        5.65   7.0       -1.35\n",
            "The Young Pope                                 5.55   7.0       -1.45\n",
            "Chernobyl                                      8.25  10.0       -1.75\n",
            "The Handmaid's Tale                            6.12   8.0       -1.88\n",
            "Brooklyn Nine-Nine                             6.01   8.0       -1.99\n"
          ],
          "name": "stdout"
        }
      ]
    },
    {
      "cell_type": "code",
      "metadata": {
        "colab_type": "code",
        "id": "lW8UkmJm7W0M",
        "colab": {
          "base_uri": "https://localhost:8080/",
          "height": 51
        },
        "outputId": "9b710a20-3356-4b45-edc4-2ebd25e820ba"
      },
      "source": [
        "from sklearn.metrics import mean_squared_error, r2_score\n",
        "\n",
        "print(f\"MRSE: {np.sqrt(mean_squared_error(y_valid, valid_predictions)):.2f}\")\n",
        "print(f\"R2 score: {r2_score(y_valid, valid_predictions):.2f}\")"
      ],
      "execution_count": 11,
      "outputs": [
        {
          "output_type": "stream",
          "text": [
            "MRSE: 1.26\n",
            "R2 score: 0.47\n"
          ],
          "name": "stdout"
        }
      ]
    },
    {
      "cell_type": "code",
      "metadata": {
        "colab_type": "code",
        "id": "ueDcBBT27W0P",
        "colab": {
          "base_uri": "https://localhost:8080/",
          "height": 34
        },
        "outputId": "97383e04-1555-48db-b03a-5780c0ed298a"
      },
      "source": [
        "# Train model on the whole training data.\n",
        "tr_X = combined_pipe.fit_transform(X)\n",
        "model = XGBRegressor(n_estimators=n_estimators, random_state=17)\n",
        "model.fit(tr_X, y)\n",
        "\n",
        "# Predict ratings for new tv series.\n",
        "X_test = combined_pipe.transform(test_df)\n",
        "test_predictions = model.predict(X_test)"
      ],
      "execution_count": 12,
      "outputs": [
        {
          "output_type": "stream",
          "text": [
            "[19:15:05] WARNING: /workspace/src/objective/regression_obj.cu:152: reg:linear is now deprecated in favor of reg:squarederror.\n"
          ],
          "name": "stdout"
        }
      ]
    },
    {
      "cell_type": "code",
      "metadata": {
        "colab_type": "code",
        "id": "OB56YHXv7W0R",
        "colab": {
          "base_uri": "https://localhost:8080/",
          "height": 669
        },
        "outputId": "59fcc9b7-cd0b-417f-9932-196e03d72a7b"
      },
      "source": [
        "# Display best tv series to watch, removing documentary because I do not care about them.\n",
        "to_watch_df = main_df.copy()\n",
        "to_watch_df[\"prediction\"] = pd.Series(data=test_predictions, index=test_df.index)\n",
        "to_watch_df = to_watch_df[to_watch_df[\"genre_documentary\"] == 0]\n",
        "\n",
        "to_watch_df.sort_values(by=\"prediction\", ascending=False).round(2)[[\"name\", \"prediction\"]].head(20)"
      ],
      "execution_count": 13,
      "outputs": [
        {
          "output_type": "execute_result",
          "data": {
            "text/html": [
              "<div>\n",
              "<style scoped>\n",
              "    .dataframe tbody tr th:only-of-type {\n",
              "        vertical-align: middle;\n",
              "    }\n",
              "\n",
              "    .dataframe tbody tr th {\n",
              "        vertical-align: top;\n",
              "    }\n",
              "\n",
              "    .dataframe thead th {\n",
              "        text-align: right;\n",
              "    }\n",
              "</style>\n",
              "<table border=\"1\" class=\"dataframe\">\n",
              "  <thead>\n",
              "    <tr style=\"text-align: right;\">\n",
              "      <th></th>\n",
              "      <th>name</th>\n",
              "      <th>prediction</th>\n",
              "    </tr>\n",
              "  </thead>\n",
              "  <tbody>\n",
              "    <tr>\n",
              "      <th>tt0944947</th>\n",
              "      <td>Game of Thrones</td>\n",
              "      <td>8.70</td>\n",
              "    </tr>\n",
              "    <tr>\n",
              "      <th>tt0417299</th>\n",
              "      <td>Avatar: The Last Airbender</td>\n",
              "      <td>8.65</td>\n",
              "    </tr>\n",
              "    <tr>\n",
              "      <th>tt1355642</th>\n",
              "      <td>Fullmetal Alchemist: Brotherhood</td>\n",
              "      <td>8.36</td>\n",
              "    </tr>\n",
              "    <tr>\n",
              "      <th>tt0092337</th>\n",
              "      <td>Dekalog</td>\n",
              "      <td>8.16</td>\n",
              "    </tr>\n",
              "    <tr>\n",
              "      <th>tt5753856</th>\n",
              "      <td>Dark</td>\n",
              "      <td>8.03</td>\n",
              "    </tr>\n",
              "    <tr>\n",
              "      <th>tt7562112</th>\n",
              "      <td>Pose</td>\n",
              "      <td>8.01</td>\n",
              "    </tr>\n",
              "    <tr>\n",
              "      <th>tt0979432</th>\n",
              "      <td>Boardwalk Empire</td>\n",
              "      <td>7.93</td>\n",
              "    </tr>\n",
              "    <tr>\n",
              "      <th>tt7660850</th>\n",
              "      <td>Succession</td>\n",
              "      <td>7.91</td>\n",
              "    </tr>\n",
              "    <tr>\n",
              "      <th>tt0118421</th>\n",
              "      <td>Oz</td>\n",
              "      <td>7.87</td>\n",
              "    </tr>\n",
              "    <tr>\n",
              "      <th>tt0103359</th>\n",
              "      <td>Batman: The Animated Series</td>\n",
              "      <td>7.86</td>\n",
              "    </tr>\n",
              "    <tr>\n",
              "      <th>tt2560140</th>\n",
              "      <td>Attack on Titan</td>\n",
              "      <td>7.84</td>\n",
              "    </tr>\n",
              "    <tr>\n",
              "      <th>tt4647692</th>\n",
              "      <td>Letterkenny</td>\n",
              "      <td>7.81</td>\n",
              "    </tr>\n",
              "    <tr>\n",
              "      <th>tt9471404</th>\n",
              "      <td>The Chosen</td>\n",
              "      <td>7.72</td>\n",
              "    </tr>\n",
              "    <tr>\n",
              "      <th>tt5421602</th>\n",
              "      <td>Anne with an E</td>\n",
              "      <td>7.69</td>\n",
              "    </tr>\n",
              "    <tr>\n",
              "      <th>tt5712554</th>\n",
              "      <td>The Grand Tour</td>\n",
              "      <td>7.69</td>\n",
              "    </tr>\n",
              "    <tr>\n",
              "      <th>tt6763664</th>\n",
              "      <td>The Haunting of Hill House</td>\n",
              "      <td>7.68</td>\n",
              "    </tr>\n",
              "    <tr>\n",
              "      <th>tt1796960</th>\n",
              "      <td>Homeland</td>\n",
              "      <td>7.65</td>\n",
              "    </tr>\n",
              "    <tr>\n",
              "      <th>tt0094525</th>\n",
              "      <td>Poirot</td>\n",
              "      <td>7.64</td>\n",
              "    </tr>\n",
              "    <tr>\n",
              "      <th>tt2303687</th>\n",
              "      <td>Line of Duty</td>\n",
              "      <td>7.61</td>\n",
              "    </tr>\n",
              "    <tr>\n",
              "      <th>tt1733785</th>\n",
              "      <td>Bron/Broen</td>\n",
              "      <td>7.60</td>\n",
              "    </tr>\n",
              "  </tbody>\n",
              "</table>\n",
              "</div>"
            ],
            "text/plain": [
              "                                       name  prediction\n",
              "tt0944947                   Game of Thrones        8.70\n",
              "tt0417299        Avatar: The Last Airbender        8.65\n",
              "tt1355642  Fullmetal Alchemist: Brotherhood        8.36\n",
              "tt0092337                           Dekalog        8.16\n",
              "tt5753856                              Dark        8.03\n",
              "tt7562112                              Pose        8.01\n",
              "tt0979432                  Boardwalk Empire        7.93\n",
              "tt7660850                        Succession        7.91\n",
              "tt0118421                                Oz        7.87\n",
              "tt0103359       Batman: The Animated Series        7.86\n",
              "tt2560140                   Attack on Titan        7.84\n",
              "tt4647692                       Letterkenny        7.81\n",
              "tt9471404                        The Chosen        7.72\n",
              "tt5421602                    Anne with an E        7.69\n",
              "tt5712554                    The Grand Tour        7.69\n",
              "tt6763664        The Haunting of Hill House        7.68\n",
              "tt1796960                          Homeland        7.65\n",
              "tt0094525                            Poirot        7.64\n",
              "tt2303687                      Line of Duty        7.61\n",
              "tt1733785                        Bron/Broen        7.60"
            ]
          },
          "metadata": {
            "tags": []
          },
          "execution_count": 13
        }
      ]
    },
    {
      "cell_type": "code",
      "metadata": {
        "colab_type": "code",
        "id": "9-jbb8mi7W0T",
        "colab": {}
      },
      "source": [
        ""
      ],
      "execution_count": 13,
      "outputs": []
    }
  ]
}