{
  "nbformat": 4,
  "nbformat_minor": 0,
  "metadata": {
    "colab": {
      "name": "prediction.ipynb",
      "provenance": []
    },
    "kernelspec": {
      "display_name": "tvtime-dataviz",
      "language": "python",
      "name": "tvtime-dataviz"
    },
    "language_info": {
      "codemirror_mode": {
        "name": "ipython",
        "version": 3
      },
      "file_extension": ".py",
      "mimetype": "text/x-python",
      "name": "python",
      "nbconvert_exporter": "python",
      "pygments_lexer": "ipython3",
      "version": "3.8.2"
    }
  },
  "cells": [
    {
      "cell_type": "code",
      "metadata": {
        "colab_type": "code",
        "id": "-hdFQVo37Wzs",
        "colab": {}
      },
      "source": [
        "import pandas as pd\n",
        "import numpy as np"
      ],
      "execution_count": 1,
      "outputs": []
    },
    {
      "cell_type": "code",
      "metadata": {
        "colab_type": "code",
        "id": "01786wmC7Wzx",
        "colab": {
          "base_uri": "https://localhost:8080/",
          "height": 1000
        },
        "outputId": "93396207-5cf8-4ab3-ef10-00f6ec0a55eb"
      },
      "source": [
        "# Import datasets.\n",
        "try:\n",
        "  tvdb_series_df = pd.read_csv(\"data/output/tvdb_series.csv\", index_col=\"imdb_id\")\n",
        "  my_ratings_df = pd.read_csv(\"data/input/my_ratings.csv\", index_col=\"imdb_id\")\n",
        "  imdb_series_df = pd.read_csv(\"data/output/imdb_series.csv\", index_col=\"id\")\n",
        "# If on Google Colab.\n",
        "except FileNotFoundError:\n",
        "  tvdb_series_df = pd.read_csv(\"tvdb_series.csv\", index_col=\"imdb_id\")\n",
        "  my_ratings_df = pd.read_csv(\"my_ratings.csv\", index_col=\"imdb_id\")\n",
        "  imdb_series_df = pd.read_csv(\"imdb_series.csv\", index_col=\"id\")\n",
        "\n",
        "# Merge datasets together.\n",
        "cols_to_use = tvdb_series_df.columns.difference(imdb_series_df.columns)\n",
        "df1 = pd.merge(imdb_series_df, tvdb_series_df[cols_to_use], how=\"outer\", left_index=True, right_index=True)\n",
        "\n",
        "cols_to_use = my_ratings_df.columns.difference(df1.columns)\n",
        "tv_df = pd.merge(df1, my_ratings_df[cols_to_use], how=\"outer\", left_index=True, right_index=True)\n",
        "\n",
        "# Display final dataset obtained.\n",
        "main_df = tv_df.copy()\n",
        "tv_df.info()"
      ],
      "execution_count": 2,
      "outputs": [
        {
          "output_type": "stream",
          "text": [
            "<class 'pandas.core.frame.DataFrame'>\n",
            "Index: 3614 entries, tt0092337 to tt9900092\n",
            "Data columns (total 90 columns):\n",
            " #   Column             Non-Null Count  Dtype  \n",
            "---  ------             --------------  -----  \n",
            " 0   name               3614 non-null   object \n",
            " 1   type               3614 non-null   object \n",
            " 2   start_year         3614 non-null   int64  \n",
            " 3   end_year           1762 non-null   float64\n",
            " 4   ep_length          3463 non-null   float64\n",
            " 5   n_seasons          3612 non-null   float64\n",
            " 6   n_episodes         3614 non-null   int64  \n",
            " 7   popularity_rank    2651 non-null   float64\n",
            " 8   n_ratings          3614 non-null   int64  \n",
            " 9   rating_avg         3614 non-null   float64\n",
            " 10  rating_top1000     3614 non-null   float64\n",
            " 11  rating_us          3614 non-null   float64\n",
            " 12  rating_row         3614 non-null   float64\n",
            " 13  rating_M           3614 non-null   float64\n",
            " 14  rating_F           3614 non-null   float64\n",
            " 15  rating_0to18       2937 non-null   float64\n",
            " 16  rating_M_0to18     2521 non-null   float64\n",
            " 17  rating_F_0to18     2217 non-null   float64\n",
            " 18  rating_18to29      3614 non-null   float64\n",
            " 19  rating_M_18to29    3614 non-null   float64\n",
            " 20  rating_F_18to29    3614 non-null   float64\n",
            " 21  rating_29to45      3614 non-null   float64\n",
            " 22  rating_M_29to45    3614 non-null   float64\n",
            " 23  rating_F_29to45    3614 non-null   float64\n",
            " 24  rating_45to100     3614 non-null   float64\n",
            " 25  rating_M_45to100   3614 non-null   float64\n",
            " 26  rating_F_45to100   3613 non-null   float64\n",
            " 27  genre_romance      3546 non-null   float64\n",
            " 28  genre_game-show    3546 non-null   float64\n",
            " 29  genre_short        3546 non-null   float64\n",
            " 30  genre_family       3546 non-null   float64\n",
            " 31  genre_news         3546 non-null   float64\n",
            " 32  genre_sport        3546 non-null   float64\n",
            " 33  genre_history      3546 non-null   float64\n",
            " 34  genre_horror       3546 non-null   float64\n",
            " 35  genre_drama        3546 non-null   float64\n",
            " 36  genre_fantasy      3546 non-null   float64\n",
            " 37  genre_sci-fi       3546 non-null   float64\n",
            " 38  genre_crime        3546 non-null   float64\n",
            " 39  genre_animation    3546 non-null   float64\n",
            " 40  genre_adventure    3546 non-null   float64\n",
            " 41  genre_biography    3546 non-null   float64\n",
            " 42  genre_documentary  3546 non-null   float64\n",
            " 43  genre_reality-tv   3546 non-null   float64\n",
            " 44  genre_musical      3546 non-null   float64\n",
            " 45  genre_western      3546 non-null   float64\n",
            " 46  genre_war          3546 non-null   float64\n",
            " 47  genre_thriller     3546 non-null   float64\n",
            " 48  genre_mystery      3546 non-null   float64\n",
            " 49  genre_comedy       3546 non-null   float64\n",
            " 50  genre_music        3546 non-null   float64\n",
            " 51  genre_action       3546 non-null   float64\n",
            " 52  genre_talk-show    3546 non-null   float64\n",
            " 53  banner             3506 non-null   object \n",
            " 54  fanart             3506 non-null   object \n",
            " 55  first_aired        3495 non-null   object \n",
            " 56  genre_             3506 non-null   float64\n",
            " 57  genre_and          3506 non-null   float64\n",
            " 58  genre_anime        3506 non-null   float64\n",
            " 59  genre_arts         3506 non-null   float64\n",
            " 60  genre_children     3506 non-null   float64\n",
            " 61  genre_fiction      3506 non-null   float64\n",
            " 62  genre_food         3506 non-null   float64\n",
            " 63  genre_game         3506 non-null   float64\n",
            " 64  genre_garden       3506 non-null   float64\n",
            " 65  genre_home         3506 non-null   float64\n",
            " 66  genre_interest     3506 non-null   float64\n",
            " 67  genre_martial      3506 non-null   float64\n",
            " 68  genre_mini-series  3506 non-null   float64\n",
            " 69  genre_podcast      3506 non-null   float64\n",
            " 70  genre_reality      3506 non-null   float64\n",
            " 71  genre_science      3506 non-null   float64\n",
            " 72  genre_show         3506 non-null   float64\n",
            " 73  genre_soap         3506 non-null   float64\n",
            " 74  genre_special      3506 non-null   float64\n",
            " 75  genre_suspense     3506 non-null   float64\n",
            " 76  genre_talk         3506 non-null   float64\n",
            " 77  genre_travel       3506 non-null   float64\n",
            " 78  network            3469 non-null   object \n",
            " 79  num_seasons        3504 non-null   float64\n",
            " 80  overview           3474 non-null   object \n",
            " 81  poster             3506 non-null   object \n",
            " 82  rating             2846 non-null   object \n",
            " 83  runtime            3499 non-null   float64\n",
            " 84  series_name        3494 non-null   object \n",
            " 85  status             3506 non-null   object \n",
            " 86  tvdb_avg_rating    3506 non-null   float64\n",
            " 87  tvdb_id            3506 non-null   float64\n",
            " 88  tvdb_ratings       3506 non-null   float64\n",
            " 89  my_rating          140 non-null    float64\n",
            "dtypes: float64(76), int64(3), object(11)\n",
            "memory usage: 2.5+ MB\n"
          ],
          "name": "stdout"
        }
      ]
    },
    {
      "cell_type": "code",
      "metadata": {
        "colab_type": "code",
        "id": "pXmlnlBp7Wz1",
        "colab": {
          "base_uri": "https://localhost:8080/",
          "height": 258
        },
        "outputId": "9c47a556-f83a-48c9-cd57-9119ded4f70e"
      },
      "source": [
        "# Get features correlation.\n",
        "corr_matrix = tv_df.corr()\n",
        "\n",
        "# Select upper triangle of correlation matrix.\n",
        "upper = corr_matrix.where(np.triu(np.ones(corr_matrix.shape), k=1).astype(np.bool))\n",
        "\n",
        "# Find features with correlation greater than 0.95.\n",
        "suspicious_features = upper[upper > 0.95]\n",
        "suspicious_features = suspicious_features.dropna(axis=0, how=\"all\").dropna(axis=1, how=\"all\")\n",
        "print(suspicious_features.to_string())"
      ],
      "execution_count": 3,
      "outputs": [
        {
          "output_type": "stream",
          "text": [
            "                rating_row  rating_M  rating_18to29  rating_M_18to29  rating_F_18to29  rating_29to45  rating_M_29to45  rating_F_29to45  rating_M_45to100  genre_garden  genre_home  genre_martial  genre_science  genre_special\n",
            "rating_avg        0.975057  0.975652       0.972724         0.959650              NaN       0.977839         0.953676              NaN               NaN           NaN         NaN            NaN            NaN            NaN\n",
            "rating_row             NaN  0.967782       0.953501              NaN              NaN       0.969083         0.953262              NaN               NaN           NaN         NaN            NaN            NaN            NaN\n",
            "rating_M               NaN       NaN            NaN         0.972698              NaN       0.971682         0.985652              NaN               NaN           NaN         NaN            NaN            NaN            NaN\n",
            "rating_F               NaN       NaN            NaN              NaN         0.953453            NaN              NaN         0.967409               NaN           NaN         NaN            NaN            NaN            NaN\n",
            "rating_18to29          NaN       NaN            NaN         0.976164              NaN            NaN              NaN              NaN               NaN           NaN         NaN            NaN            NaN            NaN\n",
            "rating_29to45          NaN       NaN            NaN              NaN              NaN            NaN         0.978209              NaN               NaN           NaN         NaN            NaN            NaN            NaN\n",
            "rating_45to100         NaN       NaN            NaN              NaN              NaN            NaN              NaN              NaN          0.978816           NaN         NaN            NaN            NaN            NaN\n",
            "genre_and              NaN       NaN            NaN              NaN              NaN            NaN              NaN              NaN               NaN           1.0         1.0            NaN            NaN            NaN\n",
            "genre_arts             NaN       NaN            NaN              NaN              NaN            NaN              NaN              NaN               NaN           NaN         NaN            1.0            NaN            NaN\n",
            "genre_fiction          NaN       NaN            NaN              NaN              NaN            NaN              NaN              NaN               NaN           NaN         NaN            NaN            1.0            NaN\n",
            "genre_garden           NaN       NaN            NaN              NaN              NaN            NaN              NaN              NaN               NaN           NaN         1.0            NaN            NaN            NaN\n",
            "genre_interest         NaN       NaN            NaN              NaN              NaN            NaN              NaN              NaN               NaN           NaN         NaN            NaN            NaN            1.0\n"
          ],
          "name": "stdout"
        }
      ]
    },
    {
      "cell_type": "code",
      "metadata": {
        "colab_type": "code",
        "id": "RS8Q9alN7Wz3",
        "colab": {}
      },
      "source": [
        "# Rename some columns.\n",
        "tv_df.rename(columns={\n",
        "    \"genre_arts\": \"genre_martial_arts\",\n",
        "    \"genre_fiction\": \"genre_science_fiction\",\n",
        "    \"genre_interest\": \"genre_special_interest\"\n",
        "})\n",
        "\n",
        "# Remove useless columns.\n",
        "cols_to_remove = [\"name\", \"genre_martial\", \"genre_science\", \"genre_special\", \"genre_\", \"series_name\", \"banner\", \"fanart\", \"overview\", \"poster\", \"first_aired\", \"tvdb_id\"]\n",
        "tv_df.drop(cols_to_remove, axis=1, inplace=True)"
      ],
      "execution_count": 4,
      "outputs": []
    },
    {
      "cell_type": "code",
      "metadata": {
        "colab_type": "code",
        "id": "pp8wVwpP7Wz6",
        "colab": {}
      },
      "source": [
        "# Identify popular networks.\n",
        "popular_networks = tv_df.groupby(by=\"network\").count().sort_values(by=\"my_rating\", ascending=False)[:20].index.to_list()\n",
        "# Change network value of unpopular networks as \"unpopular\".\n",
        "tv_df[\"network\"] = tv_df[\"network\"].map(lambda x: x if x in popular_networks else \"unpopular\")"
      ],
      "execution_count": 5,
      "outputs": []
    },
    {
      "cell_type": "code",
      "metadata": {
        "colab_type": "code",
        "id": "PeaaPqYJ7Wz9",
        "colab": {
          "base_uri": "https://localhost:8080/",
          "height": 173
        },
        "outputId": "61b1f18b-f26c-4a4d-f413-7aa618d6d477"
      },
      "source": [
        "# Let's have a look at the remaining categorical features.\n",
        "tv_df.describe(include=\"object\")"
      ],
      "execution_count": 6,
      "outputs": [
        {
          "output_type": "execute_result",
          "data": {
            "text/html": [
              "<div>\n",
              "<style scoped>\n",
              "    .dataframe tbody tr th:only-of-type {\n",
              "        vertical-align: middle;\n",
              "    }\n",
              "\n",
              "    .dataframe tbody tr th {\n",
              "        vertical-align: top;\n",
              "    }\n",
              "\n",
              "    .dataframe thead th {\n",
              "        text-align: right;\n",
              "    }\n",
              "</style>\n",
              "<table border=\"1\" class=\"dataframe\">\n",
              "  <thead>\n",
              "    <tr style=\"text-align: right;\">\n",
              "      <th></th>\n",
              "      <th>type</th>\n",
              "      <th>network</th>\n",
              "      <th>rating</th>\n",
              "      <th>status</th>\n",
              "    </tr>\n",
              "  </thead>\n",
              "  <tbody>\n",
              "    <tr>\n",
              "      <th>count</th>\n",
              "      <td>3614</td>\n",
              "      <td>3614</td>\n",
              "      <td>2846</td>\n",
              "      <td>3506</td>\n",
              "    </tr>\n",
              "    <tr>\n",
              "      <th>unique</th>\n",
              "      <td>2</td>\n",
              "      <td>21</td>\n",
              "      <td>6</td>\n",
              "      <td>2</td>\n",
              "    </tr>\n",
              "    <tr>\n",
              "      <th>top</th>\n",
              "      <td>TV Series</td>\n",
              "      <td>unpopular</td>\n",
              "      <td>TV-14</td>\n",
              "      <td>Ended</td>\n",
              "    </tr>\n",
              "    <tr>\n",
              "      <th>freq</th>\n",
              "      <td>3119</td>\n",
              "      <td>1910</td>\n",
              "      <td>1128</td>\n",
              "      <td>2775</td>\n",
              "    </tr>\n",
              "  </tbody>\n",
              "</table>\n",
              "</div>"
            ],
            "text/plain": [
              "             type    network rating status\n",
              "count        3614       3614   2846   3506\n",
              "unique          2         21      6      2\n",
              "top     TV Series  unpopular  TV-14  Ended\n",
              "freq         3119       1910   1128   2775"
            ]
          },
          "metadata": {
            "tags": []
          },
          "execution_count": 6
        }
      ]
    },
    {
      "cell_type": "code",
      "metadata": {
        "colab_type": "code",
        "id": "hgVHlbef7W0A",
        "colab": {}
      },
      "source": [
        "# Split training set and test set.\n",
        "train_df = tv_df.dropna(axis=0, subset=[\"my_rating\"])\n",
        "\n",
        "test_df = tv_df[tv_df[\"my_rating\"].isna()].drop(\"my_rating\", axis=1)\n",
        "test_df = test_df[test_df[\"type\"].notna()]"
      ],
      "execution_count": 7,
      "outputs": []
    },
    {
      "cell_type": "code",
      "metadata": {
        "colab_type": "code",
        "id": "DtgXdK4S7W0D",
        "colab": {}
      },
      "source": [
        "from sklearn.model_selection import train_test_split\n",
        "\n",
        "X = train_df.drop([\"my_rating\"], axis=1)\n",
        "y = train_df[\"my_rating\"]\n",
        "\n",
        "# Break off validation set from training data.\n",
        "X_train, X_valid, y_train, y_valid = train_test_split(X, y, train_size=0.8, test_size=0.2, random_state=0)"
      ],
      "execution_count": 8,
      "outputs": []
    },
    {
      "cell_type": "code",
      "metadata": {
        "colab_type": "code",
        "id": "td6B9Jd17W0F",
        "colab": {}
      },
      "source": [
        "from sklearn.compose import ColumnTransformer\n",
        "from sklearn.pipeline import make_pipeline\n",
        "from sklearn.impute import SimpleImputer\n",
        "from sklearn.preprocessing import OneHotEncoder, OrdinalEncoder, StandardScaler\n",
        "import multiprocessing\n",
        "\n",
        "year_pipe = make_pipeline(\n",
        "    SimpleImputer(strategy=\"constant\", fill_value=tv_df[\"start_year\"].max()), \n",
        "    StandardScaler())\n",
        "\n",
        "genre_pipe = make_pipeline(\n",
        "    SimpleImputer(strategy=\"constant\", fill_value=0))\n",
        "\n",
        "string_pipe = make_pipeline(\n",
        "    SimpleImputer(strategy=\"most_frequent\"), \n",
        "    OrdinalEncoder())\n",
        "\n",
        "cat_pipe = make_pipeline(\n",
        "    SimpleImputer(strategy=\"constant\", fill_value=\"unknown\"),\n",
        "    OneHotEncoder(categories=[np.append(tv_df[\"rating\"].unique(), \"unknown\")]))\n",
        "\n",
        "rating_pipe = make_pipeline(\n",
        "    SimpleImputer(strategy=\"median\", add_indicator=True), \n",
        "    StandardScaler())\n",
        "\n",
        "popularity_pipe = make_pipeline(\n",
        "    SimpleImputer(strategy=\"constant\", fill_value=tv_df[\"popularity_rank\"].max(), add_indicator=True),\n",
        "    StandardScaler())\n",
        "\n",
        "network_pipe = make_pipeline(\n",
        "    OneHotEncoder(categories=[tv_df[\"network\"].unique()]))\n",
        "\n",
        "year_cat = [\"start_year\", \"end_year\"]\n",
        "genre_cat = [name for name in tv_df.columns if name.startswith(\"genre\")]\n",
        "rating_cat = [name for name in tv_df.columns if name.startswith(\"rating_\")]\n",
        "popularity_cat = [\"popularity_rank\"]\n",
        "ordinal_cat = [\"type\", \"status\"]\n",
        "\n",
        "transformers = [\n",
        "    (\"year\", year_pipe, year_cat),\n",
        "    (\"genre\", genre_pipe, genre_cat),\n",
        "    (\"ratings\", rating_pipe, rating_cat),\n",
        "    (\"popularity\", popularity_pipe, popularity_cat),\n",
        "    (\"ordinal\", string_pipe, ordinal_cat),\n",
        "    (\"cat\", cat_pipe, [\"rating\"]),\n",
        "    (\"network\", network_pipe, [\"network\"])\n",
        "]\n",
        "\n",
        "combined_pipe = ColumnTransformer(transformers, n_jobs=multiprocessing.cpu_count(), remainder=SimpleImputer(add_indicator=True))"
      ],
      "execution_count": 9,
      "outputs": []
    },
    {
      "cell_type": "code",
      "metadata": {
        "colab_type": "code",
        "id": "i-_nRf8_7W0I",
        "colab": {}
      },
      "source": [
        "tr_X_train = combined_pipe.fit_transform(X_train)\n",
        "tr_X_valid = combined_pipe.transform(X_valid)"
      ],
      "execution_count": 10,
      "outputs": []
    },
    {
      "cell_type": "code",
      "metadata": {
        "colab_type": "code",
        "id": "keffBYNu7W0K",
        "colab": {
          "base_uri": "https://localhost:8080/",
          "height": 544
        },
        "outputId": "c29f7231-18ff-477b-84b6-6ef789ad0f29"
      },
      "source": [
        "from sklearn.ensemble import RandomForestRegressor\n",
        "try:\n",
        "    from xgboost import XGBRegressor\n",
        "except:\n",
        "    pass\n",
        "\n",
        "# Fit model.\n",
        "try:\n",
        "    model = XGBRegressor(n_estimators=500, random_state=17)\n",
        "    model.fit(tr_X_train, y_train, early_stopping_rounds=5, eval_set=[(tr_X_valid, y_valid)], verbose=False)\n",
        "except NameError:\n",
        "    model = RandomForestRegressor(random_state=17)\n",
        "    model.fit(tr_X_train, y_train)\n",
        "\n",
        "# Predict results for validation set.\n",
        "valid_predictions = model.predict(tr_X_valid)\n",
        "\n",
        "# Display results comparing them to real personal ratings.\n",
        "valid_results = pd.DataFrame(data=dict(prediction=valid_predictions, real=y_valid.to_list(), difference=valid_predictions - y_valid.to_list()), index=imdb_series_df.loc[y_valid.index, \"name\"])\n",
        "print(valid_results.sort_values(by=\"difference\", ascending=False))"
      ],
      "execution_count": 11,
      "outputs": [
        {
          "output_type": "stream",
          "text": [
            "[16:32:40] WARNING: /workspace/src/objective/regression_obj.cu:152: reg:linear is now deprecated in favor of reg:squarederror.\n",
            "                                         prediction  real  difference\n",
            "name                                                                 \n",
            "The Big Bang Theory                        5.240856   2.0    3.240856\n",
            "Tom Clancy's Jack Ryan                     5.151359   2.0    3.151359\n",
            "It's Always Sunny in Philadelphia          8.893214   8.0    0.893214\n",
            "Atlanta                                    7.741800   7.0    0.741800\n",
            "Counterpart                                5.614441   5.0    0.614441\n",
            "Orphan Black                               5.581559   5.0    0.581559\n",
            "The Marvelous Mrs. Maisel                  8.389423   8.0    0.389423\n",
            "How I Met Your Mother                      7.077860   7.0    0.077860\n",
            "Band of Brothers                           8.066974   8.0    0.066974\n",
            "The Office                                 6.986377   7.0   -0.013623\n",
            "Friends                                    7.940108   8.0   -0.059892\n",
            "The Office                                 8.849109   9.0   -0.150891\n",
            "The Man in the High Castle                 5.762046   6.0   -0.237954\n",
            "Penny Dreadful                             6.610644   7.0   -0.389356\n",
            "Black Mirror                               7.549715   8.0   -0.450285\n",
            "The Crown                                  7.505360   8.0   -0.494640\n",
            "Veep                                       7.347838   8.0   -0.652162\n",
            "Big Little Lies                            7.345406   8.0   -0.654594\n",
            "Freaks and Geeks                           7.225194   8.0   -0.774806\n",
            "The Outsider                               6.170969   7.0   -0.829031\n",
            "Louie                                      6.004885   7.0   -0.995115\n",
            "Lost                                       5.617841   7.0   -1.382159\n",
            "The Young Pope                             5.537923   7.0   -1.462077\n",
            "Ozark                                      6.524619   8.0   -1.475381\n",
            "The Handmaid's Tale                        6.408250   8.0   -1.591750\n",
            "Chernobyl                                  8.392115  10.0   -1.607885\n",
            "Brooklyn Nine-Nine                         6.318755   8.0   -1.681245\n",
            "Dirk Gently's Holistic Detective Agency    5.072278   7.0   -1.927722\n"
          ],
          "name": "stdout"
        }
      ]
    },
    {
      "cell_type": "code",
      "metadata": {
        "colab_type": "code",
        "id": "lW8UkmJm7W0M",
        "colab": {
          "base_uri": "https://localhost:8080/",
          "height": 51
        },
        "outputId": "c4b9baba-346a-4a1c-9cda-5b4427b9acb7"
      },
      "source": [
        "from sklearn.metrics import mean_squared_error, r2_score\n",
        "\n",
        "print(f\"MRSE: {np.sqrt(mean_squared_error(y_valid, valid_predictions)):.2f}\")\n",
        "print(f\"R2 score: {r2_score(y_valid, valid_predictions):.2f}\")"
      ],
      "execution_count": 12,
      "outputs": [
        {
          "output_type": "stream",
          "text": [
            "MRSE: 1.26\n",
            "R2 score: 0.47\n"
          ],
          "name": "stdout"
        }
      ]
    },
    {
      "cell_type": "code",
      "metadata": {
        "colab_type": "code",
        "id": "ueDcBBT27W0P",
        "colab": {
          "base_uri": "https://localhost:8080/",
          "height": 34
        },
        "outputId": "45536a0a-d768-407f-d124-885ff900e5ae"
      },
      "source": [
        "# Fit model on the whole training data.\n",
        "tr_X = combined_pipe.fit_transform(X)\n",
        "try:\n",
        "    model = XGBRegressor(n_estimators=75)\n",
        "except NameError:\n",
        "    pass\n",
        "model.fit(tr_X, y)\n",
        "\n",
        "# Predict unseen ratings of unseen tv series.\n",
        "X_test = combined_pipe.transform(test_df)\n",
        "test_predictions = model.predict(X_test)"
      ],
      "execution_count": 13,
      "outputs": [
        {
          "output_type": "stream",
          "text": [
            "[16:32:40] WARNING: /workspace/src/objective/regression_obj.cu:152: reg:linear is now deprecated in favor of reg:squarederror.\n"
          ],
          "name": "stdout"
        }
      ]
    },
    {
      "cell_type": "code",
      "metadata": {
        "colab_type": "code",
        "id": "OB56YHXv7W0R",
        "colab": {
          "base_uri": "https://localhost:8080/",
          "height": 1000
        },
        "outputId": "50164944-8dee-49d9-cf7b-2caa0c4a8ce8"
      },
      "source": [
        "# Widen overview columns for better reading.\n",
        "pd.set_option('max_colwidth', 250)\n",
        "\n",
        "# Display best tv series to watch, removing documentary because I do not care about them.\n",
        "to_watch_df = main_df.copy()\n",
        "to_watch_df[\"prediction\"] = pd.Series(data=test_predictions, index=test_df.index)\n",
        "to_watch_df = to_watch_df[to_watch_df[\"genre_documentary\"] == 0]\n",
        "\n",
        "to_watch_df.sort_values(by=\"prediction\", ascending=False)[[\"name\", \"prediction\", \"overview\"]].head(20)"
      ],
      "execution_count": 14,
      "outputs": [
        {
          "output_type": "execute_result",
          "data": {
            "text/html": [
              "<div>\n",
              "<style scoped>\n",
              "    .dataframe tbody tr th:only-of-type {\n",
              "        vertical-align: middle;\n",
              "    }\n",
              "\n",
              "    .dataframe tbody tr th {\n",
              "        vertical-align: top;\n",
              "    }\n",
              "\n",
              "    .dataframe thead th {\n",
              "        text-align: right;\n",
              "    }\n",
              "</style>\n",
              "<table border=\"1\" class=\"dataframe\">\n",
              "  <thead>\n",
              "    <tr style=\"text-align: right;\">\n",
              "      <th></th>\n",
              "      <th>name</th>\n",
              "      <th>prediction</th>\n",
              "      <th>overview</th>\n",
              "    </tr>\n",
              "  </thead>\n",
              "  <tbody>\n",
              "    <tr>\n",
              "      <th>tt0944947</th>\n",
              "      <td>Game of Thrones</td>\n",
              "      <td>8.836425</td>\n",
              "      <td>Seven noble families fight for control of the mythical land of Westeros. Friction between the houses leads to full-scale war. All while a very ancient evil awakens in the farthest north. Amidst the war, a neglected military order of misfits, the ...</td>\n",
              "    </tr>\n",
              "    <tr>\n",
              "      <th>tt0417299</th>\n",
              "      <td>Avatar: The Last Airbender</td>\n",
              "      <td>8.671462</td>\n",
              "      <td>With the Fire Nation on the brink of global domination, a young boy reawakens after a hundred-year absence. To save his war-torn world he must accept his destiny as the Avatar before it's too late.</td>\n",
              "    </tr>\n",
              "    <tr>\n",
              "      <th>tt0092337</th>\n",
              "      <td>Dekalog</td>\n",
              "      <td>8.329264</td>\n",
              "      <td>Originally made for Polish television, “Dekalog” focuses on the residents of a housing complex in late-Communist Poland, whose lives become subtly intertwined as they face emotional dilemmas that are at once deeply personal and universally human....</td>\n",
              "    </tr>\n",
              "    <tr>\n",
              "      <th>tt1355642</th>\n",
              "      <td>Fullmetal Alchemist: Brotherhood</td>\n",
              "      <td>8.325186</td>\n",
              "      <td>Edward and Alphonse Elric's reckless disregard for alchemy's fun­damental laws ripped half of Ed's limbs from his body and left Al's soul clinging to a cold suit of armor. To restore what was lost, the brothers scour a war-torn land for the Philo...</td>\n",
              "    </tr>\n",
              "    <tr>\n",
              "      <th>tt0096697</th>\n",
              "      <td>The Simpsons</td>\n",
              "      <td>8.288667</td>\n",
              "      <td>Set in Springfield, the average American town, the show focuses on the antics and everyday adventures of the Simpson family; Homer, Marge, Bart, Lisa and Maggie, as well as a virtual cast of thousands. Since the beginning, the series has been a p...</td>\n",
              "    </tr>\n",
              "    <tr>\n",
              "      <th>tt9471404</th>\n",
              "      <td>The Chosen</td>\n",
              "      <td>8.021186</td>\n",
              "      <td>The Chosen is the first-ever-multi-season TV show about the life of Jesus. Created outside of the Hollywood system, The Chosen allows us to see Him through the eyes of those who knew him. No matter where you are at in your journey with Jesus Chri...</td>\n",
              "    </tr>\n",
              "    <tr>\n",
              "      <th>tt7660850</th>\n",
              "      <td>Succession</td>\n",
              "      <td>7.903399</td>\n",
              "      <td>A drama about a dysfunctional media family dynasty in the 21st century.\\r\\nThe Roy family – Logan Roy and his four children – controls one of the biggest media and entertainment conglomerates in the world. \"Succession\" tracks their lives as they ...</td>\n",
              "    </tr>\n",
              "    <tr>\n",
              "      <th>tt4647692</th>\n",
              "      <td>Letterkenny</td>\n",
              "      <td>7.897769</td>\n",
              "      <td>The residents of Letterkenny belong to one of three groups: Hicks, Skids, and Hockey Players. The three groups are constantly feuding with each other over seemingly trivial matters; often ending with someone getting their ass kicked.</td>\n",
              "    </tr>\n",
              "    <tr>\n",
              "      <th>tt7562112</th>\n",
              "      <td>Pose</td>\n",
              "      <td>7.881162</td>\n",
              "      <td>Pose is a drama spotlighting the legends, icons and ferocious house mothers of New York’s underground ball culture, a movement that first gained notice in the 1980s.</td>\n",
              "    </tr>\n",
              "    <tr>\n",
              "      <th>tt5421602</th>\n",
              "      <td>Anne with an E</td>\n",
              "      <td>7.864590</td>\n",
              "      <td>A coming-of-age story about an outsider who, against all odds and numerous challenges, fights for love and acceptance and for her place in the world. The series centers on a young orphaned girl in the late 1890’s, who, after an abusive childhood ...</td>\n",
              "    </tr>\n",
              "    <tr>\n",
              "      <th>tt0200276</th>\n",
              "      <td>The West Wing</td>\n",
              "      <td>7.832611</td>\n",
              "      <td>The West Wing provides a glimpse into presidential politics in the nation's capital as it tells the stories of the members of a fictional presidential administration. These interesting characters have humor and dedication that touches the heart w...</td>\n",
              "    </tr>\n",
              "    <tr>\n",
              "      <th>tt5555260</th>\n",
              "      <td>This Is Us</td>\n",
              "      <td>7.780967</td>\n",
              "      <td>This refreshingly honest and provocative series follows a unique ensemble. And as their paths cross and their life stories intertwine in curious ways, we find that several of them share the same birthday - and so much more than anyone would expect.</td>\n",
              "    </tr>\n",
              "    <tr>\n",
              "      <th>tt12451520</th>\n",
              "      <td>It's Okay to Not Be Okay</td>\n",
              "      <td>7.744357</td>\n",
              "      <td>An extraordinary road to emotional healing opens up for an antisocial children's book writer and a selfless psych ward caretaker when they cross paths.</td>\n",
              "    </tr>\n",
              "    <tr>\n",
              "      <th>tt2560140</th>\n",
              "      <td>Attack on Titan</td>\n",
              "      <td>7.743114</td>\n",
              "      <td>Several hundred years ago, humans were nearly exterminated by titans. Titans are typically several stories tall, seem to have no intelligence, devour human beings and, worst of all, seem to do it for the pleasure rather than as a food source. A s...</td>\n",
              "    </tr>\n",
              "    <tr>\n",
              "      <th>tt0979432</th>\n",
              "      <td>Boardwalk Empire</td>\n",
              "      <td>7.728738</td>\n",
              "      <td>Boardwalk Empire is a period drama focusing on Enoch \"Nucky\" Thompson (based on the historical Enoch L. Johnson), a political figure who rose to prominence and controlled Atlantic City, New Jersey, during the Prohibition period of the 1920s and 1...</td>\n",
              "    </tr>\n",
              "    <tr>\n",
              "      <th>tt0118421</th>\n",
              "      <td>Oz</td>\n",
              "      <td>7.717597</td>\n",
              "      <td>OZ is set deep inside the Oswald Maximum Security Prison, in an experimental unit known as Emerald City. Em City focuses on prisoner rehabilitation over public retribution. There's one set of rules from the outside looking in, and another once yo...</td>\n",
              "    </tr>\n",
              "    <tr>\n",
              "      <th>tt0412142</th>\n",
              "      <td>House</td>\n",
              "      <td>7.669864</td>\n",
              "      <td>Dr. Gregory House is a maverick physician who is devoid of bedside manner. While his behavior can border on antisocial, Dr. House thrives on the challenge of solving the medical puzzles that other doctors give up on. Together with his hand-picked...</td>\n",
              "    </tr>\n",
              "    <tr>\n",
              "      <th>tt0094525</th>\n",
              "      <td>Poirot</td>\n",
              "      <td>7.660319</td>\n",
              "      <td>The adventures of Agatha Christie's famous Belgian detective, Hercule Poirot, adapted for television over more than twenty years and covering every Poirot book and short story ever written. This enormous lifelong project starring David Suchet tak...</td>\n",
              "    </tr>\n",
              "    <tr>\n",
              "      <th>tt9059760</th>\n",
              "      <td>Normal People</td>\n",
              "      <td>7.612920</td>\n",
              "      <td>Adapted from Sally Rooney's best-selling novel, the series follows Marianne and Connell, from different backgrounds but the same small town in Ireland, as they weave in and out of each other's romantic lives, exploring just how complicated intima...</td>\n",
              "    </tr>\n",
              "    <tr>\n",
              "      <th>tt2701582</th>\n",
              "      <td>Endeavour</td>\n",
              "      <td>7.607885</td>\n",
              "      <td>Set in the mid-Sixties, this prequel centers around the early career of Endeavour Morse (Shaun Evans). After leaving his Oxford college without a degree, and spending a short time as a cipher clerk, Morse joins the police, working under veteran D...</td>\n",
              "    </tr>\n",
              "  </tbody>\n",
              "</table>\n",
              "</div>"
            ],
            "text/plain": [
              "                                        name  ...                                                                                                                                                                                                                                                   overview\n",
              "tt0944947                    Game of Thrones  ...  Seven noble families fight for control of the mythical land of Westeros. Friction between the houses leads to full-scale war. All while a very ancient evil awakens in the farthest north. Amidst the war, a neglected military order of misfits, the ...\n",
              "tt0417299         Avatar: The Last Airbender  ...                                                     With the Fire Nation on the brink of global domination, a young boy reawakens after a hundred-year absence. To save his war-torn world he must accept his destiny as the Avatar before it's too late. \n",
              "tt0092337                            Dekalog  ...  Originally made for Polish television, “Dekalog” focuses on the residents of a housing complex in late-Communist Poland, whose lives become subtly intertwined as they face emotional dilemmas that are at once deeply personal and universally human....\n",
              "tt1355642   Fullmetal Alchemist: Brotherhood  ...  Edward and Alphonse Elric's reckless disregard for alchemy's fun­damental laws ripped half of Ed's limbs from his body and left Al's soul clinging to a cold suit of armor. To restore what was lost, the brothers scour a war-torn land for the Philo...\n",
              "tt0096697                       The Simpsons  ...  Set in Springfield, the average American town, the show focuses on the antics and everyday adventures of the Simpson family; Homer, Marge, Bart, Lisa and Maggie, as well as a virtual cast of thousands. Since the beginning, the series has been a p...\n",
              "tt9471404                         The Chosen  ...  The Chosen is the first-ever-multi-season TV show about the life of Jesus. Created outside of the Hollywood system, The Chosen allows us to see Him through the eyes of those who knew him. No matter where you are at in your journey with Jesus Chri...\n",
              "tt7660850                         Succession  ...  A drama about a dysfunctional media family dynasty in the 21st century.\\r\\nThe Roy family – Logan Roy and his four children – controls one of the biggest media and entertainment conglomerates in the world. \"Succession\" tracks their lives as they ...\n",
              "tt4647692                        Letterkenny  ...                  The residents of Letterkenny belong to one of three groups: Hicks, Skids, and Hockey Players. The three groups are constantly feuding with each other over seemingly trivial matters; often ending with someone getting their ass kicked.\n",
              "tt7562112                               Pose  ...                                                                                      Pose is a drama spotlighting the legends, icons and ferocious house mothers of New York’s underground ball culture, a movement that first gained notice in the 1980s.\n",
              "tt5421602                     Anne with an E  ...  A coming-of-age story about an outsider who, against all odds and numerous challenges, fights for love and acceptance and for her place in the world. The series centers on a young orphaned girl in the late 1890’s, who, after an abusive childhood ...\n",
              "tt0200276                      The West Wing  ...  The West Wing provides a glimpse into presidential politics in the nation's capital as it tells the stories of the members of a fictional presidential administration. These interesting characters have humor and dedication that touches the heart w...\n",
              "tt5555260                         This Is Us  ...   This refreshingly honest and provocative series follows a unique ensemble. And as their paths cross and their life stories intertwine in curious ways, we find that several of them share the same birthday - and so much more than anyone would expect.\n",
              "tt12451520          It's Okay to Not Be Okay  ...                                                                                                    An extraordinary road to emotional healing opens up for an antisocial children's book writer and a selfless psych ward caretaker when they cross paths.\n",
              "tt2560140                    Attack on Titan  ...  Several hundred years ago, humans were nearly exterminated by titans. Titans are typically several stories tall, seem to have no intelligence, devour human beings and, worst of all, seem to do it for the pleasure rather than as a food source. A s...\n",
              "tt0979432                   Boardwalk Empire  ...  Boardwalk Empire is a period drama focusing on Enoch \"Nucky\" Thompson (based on the historical Enoch L. Johnson), a political figure who rose to prominence and controlled Atlantic City, New Jersey, during the Prohibition period of the 1920s and 1...\n",
              "tt0118421                                 Oz  ...  OZ is set deep inside the Oswald Maximum Security Prison, in an experimental unit known as Emerald City. Em City focuses on prisoner rehabilitation over public retribution. There's one set of rules from the outside looking in, and another once yo...\n",
              "tt0412142                              House  ...  Dr. Gregory House is a maverick physician who is devoid of bedside manner. While his behavior can border on antisocial, Dr. House thrives on the challenge of solving the medical puzzles that other doctors give up on. Together with his hand-picked...\n",
              "tt0094525                             Poirot  ...  The adventures of Agatha Christie's famous Belgian detective, Hercule Poirot, adapted for television over more than twenty years and covering every Poirot book and short story ever written. This enormous lifelong project starring David Suchet tak...\n",
              "tt9059760                      Normal People  ...  Adapted from Sally Rooney's best-selling novel, the series follows Marianne and Connell, from different backgrounds but the same small town in Ireland, as they weave in and out of each other's romantic lives, exploring just how complicated intima...\n",
              "tt2701582                          Endeavour  ...  Set in the mid-Sixties, this prequel centers around the early career of Endeavour Morse (Shaun Evans). After leaving his Oxford college without a degree, and spending a short time as a cipher clerk, Morse joins the police, working under veteran D...\n",
              "\n",
              "[20 rows x 3 columns]"
            ]
          },
          "metadata": {
            "tags": []
          },
          "execution_count": 14
        }
      ]
    },
    {
      "cell_type": "code",
      "metadata": {
        "colab_type": "code",
        "id": "9-jbb8mi7W0T",
        "colab": {}
      },
      "source": [
        ""
      ],
      "execution_count": 14,
      "outputs": []
    }
  ]
}