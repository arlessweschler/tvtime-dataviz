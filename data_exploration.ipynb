{
 "cells": [
  {
   "cell_type": "code",
   "execution_count": 7,
   "metadata": {},
   "outputs": [],
   "source": [
    "import pandas as pd\n",
    "import numpy as np\n",
    "import seaborn as sns\n",
    "import matplotlib.pyplot as plt\n",
    "%matplotlib inline"
   ]
  },
  {
   "cell_type": "markdown",
   "metadata": {},
   "source": [
    "First, let's load the datasets."
   ]
  },
  {
   "cell_type": "code",
   "execution_count": 8,
   "metadata": {},
   "outputs": [],
   "source": [
    "seen_tv_series_df = pd.read_csv(\"data/output/seen_tv_series.csv\", index_col=\"tvdb_id\")\n",
    "my_ratings_df = pd.read_csv(\"data/input/my_ratings.csv\", index_col=\"tvdb_id\")\n",
    "imdb_series_df = pd.read_csv(\"data/output/imdb_series.csv\")"
   ]
  },
  {
   "cell_type": "markdown",
   "metadata": {},
   "source": [
    "Now, let's augment the TV series dataset with my ratings."
   ]
  },
  {
   "cell_type": "code",
   "execution_count": 9,
   "metadata": {},
   "outputs": [
    {
     "name": "stdout",
     "output_type": "stream",
     "text": [
      "<class 'pandas.core.frame.DataFrame'>\n",
      "Int64Index: 139 entries, 70533 to 365480\n",
      "Data columns (total 16 columns):\n",
      " #   Column           Non-Null Count  Dtype  \n",
      "---  ------           --------------  -----  \n",
      " 0   series_name      139 non-null    object \n",
      " 1   num_seasons      139 non-null    int64  \n",
      " 2   poster           139 non-null    object \n",
      " 3   banner           139 non-null    object \n",
      " 4   fanart           139 non-null    object \n",
      " 5   status           139 non-null    object \n",
      " 6   first_aired      139 non-null    object \n",
      " 7   network          139 non-null    object \n",
      " 8   runtime          139 non-null    int64  \n",
      " 9   genre            139 non-null    object \n",
      " 10  overview         139 non-null    object \n",
      " 11  rating           139 non-null    object \n",
      " 12  imdb_id          139 non-null    object \n",
      " 13  tvdb_avg_rating  139 non-null    float64\n",
      " 14  tvdb_ratings     139 non-null    int64  \n",
      " 15  my_rating        134 non-null    float64\n",
      "dtypes: float64(2), int64(3), object(11)\n",
      "memory usage: 16.5+ KB\n"
     ]
    }
   ],
   "source": [
    "for i, row in seen_tv_series_df.iterrows():\n",
    "    seen_tv_series_df.loc[i, \"my_rating\"] = my_ratings_df.loc[i, \"my_rating\"]\n",
    "seen_tv_series_df.info()"
   ]
  },
  {
   "cell_type": "code",
   "execution_count": 5,
   "metadata": {},
   "outputs": [
    {
     "data": {
      "text/html": [
       "<div>\n",
       "<style scoped>\n",
       "    .dataframe tbody tr th:only-of-type {\n",
       "        vertical-align: middle;\n",
       "    }\n",
       "\n",
       "    .dataframe tbody tr th {\n",
       "        vertical-align: top;\n",
       "    }\n",
       "\n",
       "    .dataframe thead th {\n",
       "        text-align: right;\n",
       "    }\n",
       "</style>\n",
       "<table border=\"1\" class=\"dataframe\">\n",
       "  <thead>\n",
       "    <tr style=\"text-align: right;\">\n",
       "      <th></th>\n",
       "      <th>num_seasons</th>\n",
       "      <th>runtime</th>\n",
       "      <th>tvdb_avg_rating</th>\n",
       "      <th>tvdb_ratings</th>\n",
       "      <th>my_rating</th>\n",
       "    </tr>\n",
       "  </thead>\n",
       "  <tbody>\n",
       "    <tr>\n",
       "      <th>count</th>\n",
       "      <td>139.000000</td>\n",
       "      <td>139.000000</td>\n",
       "      <td>139.000000</td>\n",
       "      <td>139.00000</td>\n",
       "      <td>134.000000</td>\n",
       "    </tr>\n",
       "    <tr>\n",
       "      <th>mean</th>\n",
       "      <td>4.093525</td>\n",
       "      <td>44.503597</td>\n",
       "      <td>8.233813</td>\n",
       "      <td>4803.52518</td>\n",
       "      <td>6.843284</td>\n",
       "    </tr>\n",
       "    <tr>\n",
       "      <th>std</th>\n",
       "      <td>3.113533</td>\n",
       "      <td>15.084003</td>\n",
       "      <td>2.119255</td>\n",
       "      <td>7974.58657</td>\n",
       "      <td>1.716153</td>\n",
       "    </tr>\n",
       "    <tr>\n",
       "      <th>min</th>\n",
       "      <td>1.000000</td>\n",
       "      <td>10.000000</td>\n",
       "      <td>0.000000</td>\n",
       "      <td>0.00000</td>\n",
       "      <td>2.000000</td>\n",
       "    </tr>\n",
       "    <tr>\n",
       "      <th>25%</th>\n",
       "      <td>2.000000</td>\n",
       "      <td>27.500000</td>\n",
       "      <td>8.400000</td>\n",
       "      <td>373.50000</td>\n",
       "      <td>6.000000</td>\n",
       "    </tr>\n",
       "    <tr>\n",
       "      <th>50%</th>\n",
       "      <td>3.000000</td>\n",
       "      <td>45.000000</td>\n",
       "      <td>8.800000</td>\n",
       "      <td>1916.00000</td>\n",
       "      <td>7.000000</td>\n",
       "    </tr>\n",
       "    <tr>\n",
       "      <th>75%</th>\n",
       "      <td>5.000000</td>\n",
       "      <td>55.000000</td>\n",
       "      <td>9.000000</td>\n",
       "      <td>5045.50000</td>\n",
       "      <td>8.000000</td>\n",
       "    </tr>\n",
       "    <tr>\n",
       "      <th>max</th>\n",
       "      <td>18.000000</td>\n",
       "      <td>90.000000</td>\n",
       "      <td>10.000000</td>\n",
       "      <td>43019.00000</td>\n",
       "      <td>10.000000</td>\n",
       "    </tr>\n",
       "  </tbody>\n",
       "</table>\n",
       "</div>"
      ],
      "text/plain": [
       "       num_seasons     runtime  tvdb_avg_rating  tvdb_ratings   my_rating\n",
       "count   139.000000  139.000000       139.000000     139.00000  134.000000\n",
       "mean      4.093525   44.503597         8.233813    4803.52518    6.843284\n",
       "std       3.113533   15.084003         2.119255    7974.58657    1.716153\n",
       "min       1.000000   10.000000         0.000000       0.00000    2.000000\n",
       "25%       2.000000   27.500000         8.400000     373.50000    6.000000\n",
       "50%       3.000000   45.000000         8.800000    1916.00000    7.000000\n",
       "75%       5.000000   55.000000         9.000000    5045.50000    8.000000\n",
       "max      18.000000   90.000000        10.000000   43019.00000   10.000000"
      ]
     },
     "execution_count": 5,
     "metadata": {},
     "output_type": "execute_result"
    }
   ],
   "source": [
    "seen_tv_series_df.describe()"
   ]
  },
  {
   "cell_type": "code",
   "execution_count": 11,
   "metadata": {},
   "outputs": [
    {
     "data": {
      "image/png": "[encoded data removed]",
      "text/plain": [
       "<Figure size 432x288 with 2 Axes>"
      ]
     },
     "metadata": {
      "needs_background": "light"
     },
     "output_type": "display_data"
    }
   ],
   "source": [
    "fig, axs = plt.subplots(2)\n",
    "fig.suptitle(\"Comparison of ratings\")\n",
    "sns.countplot(seen_tv_series_df[\"my_rating\"], ax=axs[0])\n",
    "axs[0].set(xlabel=\"My ratings\")\n",
    "sns.distplot(imdb_series_df[\"rating_avg\"], bins=10, ax=axs[1])\n",
    "\n",
    "plt.show()"
   ]
  },
  {
   "cell_type": "code",
   "execution_count": null,
   "metadata": {},
   "outputs": [],
   "source": []
  }
 ],
 "metadata": {
  "kernelspec": {
   "display_name": "tvtime-dataviz",
   "language": "python",
   "name": "tvtime-dataviz"
  },
  "language_info": {
   "codemirror_mode": {
    "name": "ipython",
    "version": 3
   },
   "file_extension": ".py",
   "mimetype": "text/x-python",
   "name": "python",
   "nbconvert_exporter": "python",
   "pygments_lexer": "ipython3",
   "version": "3.8.2"
  }
 },
 "nbformat": 4,
 "nbformat_minor": 4
}
